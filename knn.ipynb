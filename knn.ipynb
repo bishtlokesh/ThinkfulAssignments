{
 "cells": [
  {
   "cell_type": "code",
   "execution_count": 76,
   "metadata": {
    "collapsed": false
   },
   "outputs": [
    {
     "name": "stdout",
     "output_type": "stream",
     "text": [
      "Populating the interactive namespace from numpy and matplotlib\n"
     ]
    }
   ],
   "source": [
    "import pandas as pd\n",
    "%  pylab inline\n",
    "import matplotlib.pyplot as plt\n",
    "import math\n",
    "import numpy as np\n",
    "import random\n",
    "from random import randint"
   ]
  },
  {
   "cell_type": "code",
   "execution_count": 150,
   "metadata": {
    "collapsed": false
   },
   "outputs": [
    {
     "name": "stdout",
     "output_type": "stream",
     "text": [
      "16.09\n"
     ]
    }
   ],
   "source": [
    "def distance1 (a,b):\n",
    "    return np.sum((a-b)**2)\n",
    "print(distance1(np.array((1,2)), np.array(irisRawData.ix[ran_index, ['sepalLength', 'sepalWidth']]))) "
   ]
  },
  {
   "cell_type": "code",
   "execution_count": 103,
   "metadata": {
    "collapsed": false
   },
   "outputs": [
    {
     "name": "stdout",
     "output_type": "stream",
     "text": [
      "2.82842712475\n"
     ]
    }
   ],
   "source": []
  },
  {
   "cell_type": "code",
   "execution_count": 151,
   "metadata": {
    "collapsed": false
   },
   "outputs": [
    {
     "name": "stdout",
     "output_type": "stream",
     "text": [
      "   5.1  3.5  1.4  0.2  Iris-setosa\n",
      "0  4.9  3.0  1.4  0.2  Iris-setosa\n",
      "1  4.7  3.2  1.3  0.2  Iris-setosa\n",
      "2  4.6  3.1  1.5  0.2  Iris-setosa\n",
      "3  5.0  3.6  1.4  0.2  Iris-setosa\n",
      "4  5.4  3.9  1.7  0.4  Iris-setosa\n"
     ]
    }
   ],
   "source": [
    "irisRawData=pd.read_table(\"C:/Users/lbisht/Documents/Thinkful/Data1/iris/iris.data.csv\",\n",
    "                         sep=\",\")\n",
    "irisNames=pd.Series(['sepalLength', 'sepalWidth', 'petalLength','petalWidth','class' ])\n",
    "print(irisRawData.head())"
   ]
  },
  {
   "cell_type": "code",
   "execution_count": 215,
   "metadata": {
    "collapsed": false
   },
   "outputs": [
    {
     "name": "stdout",
     "output_type": "stream",
     "text": [
      "Iris-versicolor    50\n",
      "Iris-virginica     50\n",
      "Iris-setosa        49\n",
      "Name: class, dtype: int64\n"
     ]
    }
   ],
   "source": [
    "#irisRawData.columns=irisNames\n",
    "#print(irisRawData)\n",
    "print(irisRawData['class'].value_counts())"
   ]
  },
  {
   "cell_type": "code",
   "execution_count": 153,
   "metadata": {
    "collapsed": false
   },
   "outputs": [
    {
     "data": {
      "image/png": "[encoded data removed]",
      "text/plain": [
       "<matplotlib.figure.Figure at 0xb1e8128>"
      ]
     },
     "metadata": {},
     "output_type": "display_data"
    }
   ],
   "source": [
    "plt.scatter(irisRawData.sepalLength, irisRawData.sepalWidth, color=['red', 'blue', 'green'])\n",
    "plt.scatter?"
   ]
  },
  {
   "cell_type": "code",
   "execution_count": 154,
   "metadata": {
    "collapsed": false
   },
   "outputs": [
    {
     "name": "stdout",
     "output_type": "stream",
     "text": [
      "132\n",
      "149\n",
      "    sepalLength sepalWidth\n",
      "132         6.3        2.8\n"
     ]
    }
   ],
   "source": [
    "#Get Random point and values from the underlying data\n",
    "random_index=random.randint(0, len(irisRawData)-1)\n",
    "print(random_index)\n",
    "print(len(irisRawData))\n",
    "random_point=irisRawData.ix[random_index, 'sepalLength': 'sepalWidth']\n",
    "random_pointDF=pd.DataFrame(random_point).T\n",
    "print(random_pointDF)"
   ]
  },
  {
   "cell_type": "code",
   "execution_count": 155,
   "metadata": {
    "collapsed": false
   },
   "outputs": [
    {
     "name": "stdout",
     "output_type": "stream",
     "text": [
      "sepalLength    5\n",
      "sepalWidth     3\n",
      "Name: 24, dtype: object\n"
     ]
    }
   ],
   "source": [
    "ran_index=randint(0,len(irisRawData))\n",
    "print(irisRawData.ix[ran_index, ['sepalLength', 'sepalWidth']])"
   ]
  },
  {
   "cell_type": "markdown",
   "metadata": {},
   "source": [
    "# calculate euclidean distance \n",
    "diff_squared_dist=[]\n",
    "def distance (data1, data2):\n",
    "    points=zip(data1,data2)\n",
    "    diff_squared_dist=[pow(a-b, 2) for (a,b) in points]\n",
    "#print(diff_squared_dist)\n",
    "    return math.sqrt(sum(diff_squared_dist))\n",
    "\n",
    "print(distance([1,2],[3,2]))"
   ]
  },
  {
   "cell_type": "code",
   "execution_count": 216,
   "metadata": {
    "collapsed": false
   },
   "outputs": [
    {
     "name": "stdout",
     "output_type": "stream",
     "text": [
      "b sepalLength    6.5\n",
      "sepalWidth       3\n",
      "Name: 146, dtype: object\n",
      "Max class assigned is Iris-virginica    10\n",
      "Name: class, dtype: int64\n"
     ]
    }
   ],
   "source": [
    "diff_squared_dist=[] \n",
    "ran_index=randint(0,len(irisRawData))\n",
    "\n",
    "def dist (a,b, length):\n",
    "    for i in range(length):\n",
    "        a.ix[i, 'distance']=np.sum((a.ix[i, ['sepalLength', 'sepalWidth']]-b)**2)\n",
    "        #ret2=(a.sort('distance'), ascending=False)\n",
    "        return a.sort_values(by='distance', ascending=False).head(10)\n",
    "\n",
    "b=irisRawData.ix[ran_index, ['sepalLength', 'sepalWidth']]\n",
    "print('b',b)\n",
    "irisRawData3=dist(irisRawData, b, len(irisRawData))\n",
    "#print(dist((irisRawData.ix[ran_index, ['sepalLength', 'sepalWidth']]), irisRawData)) \n",
    "print('Max class assigned is',(irisRawData3['class'].value_counts()).head(1))\n",
    "\n"
   ]
  }
 ],
 "metadata": {
  "kernelspec": {
   "display_name": "Python 3",
   "language": "python",
   "name": "python3"
  },
  "language_info": {
   "codemirror_mode": {
    "name": "ipython",
    "version": 3
   },
   "file_extension": ".py",
   "mimetype": "text/x-python",
   "name": "python",
   "nbconvert_exporter": "python",
   "pygments_lexer": "ipython3",
   "version": "3.5.1"
  }
 },
 "nbformat": 4,
 "nbformat_minor": 0
}
