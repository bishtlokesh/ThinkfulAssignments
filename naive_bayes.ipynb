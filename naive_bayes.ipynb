{
 "cells": [
  {
   "cell_type": "code",
   "execution_count": 70,
   "metadata": {
    "collapsed": false
   },
   "outputs": [
    {
     "name": "stdout",
     "output_type": "stream",
     "text": [
      "Populating the interactive namespace from numpy and matplotlib\n"
     ]
    }
   ],
   "source": [
    "import pandas as pd\n",
    "import numpy as np\n",
    "import matplotlib.pyplot as plt\n",
    "from sklearn.naive_bayes import GaussianNB \n",
    "from sklearn.cross_validation import train_test_split\n",
    "%pylab inline"
   ]
  },
  {
   "cell_type": "code",
   "execution_count": 61,
   "metadata": {
    "collapsed": false
   },
   "outputs": [
    {
     "name": "stdout",
     "output_type": "stream",
     "text": [
      "   'id'     'sex'  'actual'  'ideal'  'diff'\n",
      "0     0    'Male'       215      190      25\n",
      "1     1  'Female'       155      135      20\n",
      "2     2    'Male'       195      155      40\n",
      "3     3  'Female'       145      130      15\n",
      "4     4  'Female'       110      100      10\n"
     ]
    }
   ],
   "source": [
    "rawData=pd.read_table('C:/Users/lbisht/Documents/Thinkful/Data1/ideal-weight/ideal_weight.csv',\n",
    "                     sep=',')\n",
    "print(rawData.head())"
   ]
  },
  {
   "cell_type": "code",
   "execution_count": 62,
   "metadata": {
    "collapsed": false
   },
   "outputs": [],
   "source": [
    "#remove single quotes\n",
    "lambdafn=lambda x: str(x).replace(\"'\", \"\")\n",
    "rawData.columns=list(map(lambdafn, rawData.columns))"
   ]
  },
  {
   "cell_type": "code",
   "execution_count": 41,
   "metadata": {
    "collapsed": false
   },
   "outputs": [
    {
     "name": "stdout",
     "output_type": "stream",
     "text": [
      "Index(['id', 'sex', 'actual', 'ideal', 'diff'], dtype='object')\n"
     ]
    }
   ],
   "source": [
    "print(rawData.columns)"
   ]
  },
  {
   "cell_type": "code",
   "execution_count": 63,
   "metadata": {
    "collapsed": false
   },
   "outputs": [
    {
     "data": {
      "image/png": "[encoded data removed]",
      "text/plain": [
       "<matplotlib.figure.Figure at 0xb4b7128>"
      ]
     },
     "metadata": {},
     "output_type": "display_data"
    }
   ],
   "source": [
    "plt.hist(rawData.actual, label='actual')\n",
    "plt.hist(rawData.ideal, label='ideal')\n",
    "plt.legend()\n",
    "plt.show()\n"
   ]
  },
  {
   "cell_type": "code",
   "execution_count": 43,
   "metadata": {
    "collapsed": false
   },
   "outputs": [
    {
     "data": {
      "image/png": "[encoded data removed]",
      "text/plain": [
       "<matplotlib.figure.Figure at 0xaa35fd0>"
      ]
     },
     "metadata": {},
     "output_type": "display_data"
    }
   ],
   "source": [
    "plt.hist(rawData.ideal, label='diff')\n",
    "plt.show()"
   ]
  },
  {
   "cell_type": "code",
   "execution_count": 34,
   "metadata": {
    "collapsed": false
   },
   "outputs": [
    {
     "name": "stdout",
     "output_type": "stream",
     "text": [
      "0    190\n",
      "1    135\n",
      "2    155\n",
      "3    130\n",
      "4    100\n",
      "Name: weightDiff, dtype: int64\n"
     ]
    },
    {
     "data": {
      "image/png": "[encoded data removed]",
      "text/plain": [
       "<matplotlib.figure.Figure at 0x96c1cc0>"
      ]
     },
     "metadata": {},
     "output_type": "display_data"
    }
   ],
   "source": [
    "#rawData['weightDiff']=rawData['actual']=rawData['ideal']\n",
    "#print(rawData['weightDiff'].head()) \n",
    "#plt.hist(rawData['weightDiff'], label='weightDiff')\n",
    "#plt.show()"
   ]
  },
  {
   "cell_type": "code",
   "execution_count": 64,
   "metadata": {
    "collapsed": false
   },
   "outputs": [
    {
     "name": "stdout",
     "output_type": "stream",
     "text": [
      "category\n",
      "'Female'    119\n",
      "'Male'       63\n",
      "dtype: int64\n"
     ]
    }
   ],
   "source": [
    "rawData.sex=rawData.sex.astype('category')\n",
    "print((rawData.sex.dtype))\n",
    "print(rawData.sex.value_counts())# more famales then males\n",
    "\n"
   ]
  },
  {
   "cell_type": "code",
   "execution_count": 106,
   "metadata": {
    "collapsed": false
   },
   "outputs": [],
   "source": [
    "y=rawData.pop('sex')\n",
    "rawData.pop('id')\n"
   ]
  },
  {
   "cell_type": "code",
   "execution_count": 107,
   "metadata": {
    "collapsed": false
   },
   "outputs": [
    {
     "name": "stdout",
     "output_type": "stream",
     "text": [
      "category\n",
      "   actual  ideal  diff\n",
      "0     215    190    25\n",
      "1     155    135    20\n",
      "2     195    155    40\n",
      "3     145    130    15\n",
      "4     110    100    10\n"
     ]
    }
   ],
   "source": [
    "print(y.dtype)\n",
    "print(rawData.head())"
   ]
  },
  {
   "cell_type": "code",
   "execution_count": 108,
   "metadata": {
    "collapsed": false
   },
   "outputs": [],
   "source": [
    "x_train,x_test,y_train,y_test=train_test_split(rawData, y, test_size=0.33)"
   ]
  },
  {
   "cell_type": "code",
   "execution_count": 110,
   "metadata": {
    "collapsed": false
   },
   "outputs": [
    {
     "name": "stdout",
     "output_type": "stream",
     "text": [
      "121\n",
      "61\n",
      "182\n"
     ]
    }
   ],
   "source": [
    "print(len(x_train));print(len(x_test));print(len(rawData));\n"
   ]
  },
  {
   "cell_type": "code",
   "execution_count": 116,
   "metadata": {
    "collapsed": false
   },
   "outputs": [
    {
     "name": "stdout",
     "output_type": "stream",
     "text": [
      "number of mislabeled points out of a total 61 points: 4\n"
     ]
    },
    {
     "data": {
      "text/plain": [
       "array([\"'Male'\"], \n",
       "      dtype='<U8')"
      ]
     },
     "execution_count": 116,
     "metadata": {},
     "output_type": "execute_result"
    }
   ],
   "source": [
    "classifier_nb=GaussianNB()\n",
    "model=classifier_nb.fit(x_train,y_train)\n",
    "y_predict_test=model.predict(x_test)\n",
    "#print( (y_test !=y_predict_test).sum())\n",
    "#print(len(x_test))\n",
    "#print(y_predict_test)\n",
    "print (\"number of mislabeled points out of a total {} points: {}\".format(x_test.shape[0], (y_test !=y_predict_test).sum()))\n",
    "model.predict(pd.DataFrame([{'actual':145, 'ideal':160,'diff':-15}]))\n"
   ]
  }
 ],
 "metadata": {
  "kernelspec": {
   "display_name": "Python 3",
   "language": "python",
   "name": "python3"
  },
  "language_info": {
   "codemirror_mode": {
    "name": "ipython",
    "version": 3
   },
   "file_extension": ".py",
   "mimetype": "text/x-python",
   "name": "python",
   "nbconvert_exporter": "python",
   "pygments_lexer": "ipython3",
   "version": "3.5.1"
  }
 },
 "nbformat": 4,
 "nbformat_minor": 0
}
