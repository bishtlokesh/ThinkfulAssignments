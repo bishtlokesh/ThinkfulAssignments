{
 "cells": [
  {
   "cell_type": "code",
   "execution_count": 9,
   "metadata": {
    "collapsed": true
   },
   "outputs": [],
   "source": [
    "\n",
    "import time as tm\n",
    "import datetime as dt\n",
    "import requests\n",
    "import json\n",
    "import pandas as pd\n",
    "import seaborn as sb\n",
    "import matplotlib.pyplot as plt\n",
    "import matplotlib.dates as mdates\n",
    "from pandas.io.json import json_normalize"
   ]
  },
  {
   "cell_type": "code",
   "execution_count": 12,
   "metadata": {
    "collapsed": true
   },
   "outputs": [],
   "source": [
    "cities={\"Atlanta\": '33.762909,-84.422675',\n",
    "            \"Austin\": '30.303936,-97.754355',\n",
    "            \"Boston\": '42.331960,-71.020173',\n",
    "            \"Chicago\": '41.837551,-87.681844',\n",
    "            \"Cleveland\": '41.478462,-81.679435'}\n",
    "history=3\n",
    "API_key='6ddea8a5c2c4acb02fe295cee3bf860c'\n",
    "base_url='https://api.forecast.io/forecast/{}/{},{}'\n",
    "startdate=dt.datetime.now()"
   ]
  },
  {
   "cell_type": "code",
   "execution_count": 36,
   "metadata": {
    "collapsed": false
   },
   "outputs": [
    {
     "name": "stdout",
     "output_type": "stream",
     "text": [
      "Getting temperatures for Cleveland...\n",
      "Getting temperatures for Chicago...\n",
      "Getting temperatures for Austin...\n",
      "Getting temperatures for Atlanta...\n",
      "Getting temperatures for Boston...\n"
     ]
    }
   ],
   "source": [
    "city_temp=pd.DataFrame()\n",
    "for city, lat_lon in cities.items():\n",
    "    print(\"Getting temperatures for\",city + \"...\")\n",
    "    for k in range(history):\n",
    "        date_k = (startdate - dt.timedelta(days = k))\n",
    "        date_url = date_k.strftime('%Y-%m-%dT%H:%M:%S-0400')\n",
    "        date_tab = date_k.strftime('%Y-%m-%d')\n",
    "        url = base_url.format(API_key,lat_lon,date_url)\n",
    "        response = requests.get(url)\n",
    "        raw_data = response.text\n",
    "        data = json.loads(raw_data)\n",
    "        hourly_data=data['hourly']\n",
    "        hourly_table=json_normalize(hourly_data['data'])\n",
    "        hourly_table.temperature=hourly_table.temperature\n",
    "        hourly_table['city']=city\n",
    "        hourly_table['date']=date_tab\n",
    "        city_temp=city_temp.append(hourly_table)\n",
    "        "
   ]
  },
  {
   "cell_type": "code",
   "execution_count": 41,
   "metadata": {
    "collapsed": false
   },
   "outputs": [
    {
     "name": "stdout",
     "output_type": "stream",
     "text": [
      "         city        date  temperature\n",
      "0     Atlanta  2016-05-09        80.34\n",
      "1     Atlanta  2016-05-10        81.98\n",
      "2     Atlanta  2016-05-11        86.23\n",
      "3      Austin  2016-05-09        86.01\n",
      "4      Austin  2016-05-10        89.04\n",
      "5      Austin  2016-05-11        85.79\n",
      "6      Boston  2016-05-09        62.72\n",
      "7      Boston  2016-05-10        66.18\n",
      "8      Boston  2016-05-11        67.52\n",
      "9     Chicago  2016-05-09        57.52\n",
      "10    Chicago  2016-05-10        65.20\n",
      "11    Chicago  2016-05-11        63.90\n",
      "12  Cleveland  2016-05-09        58.46\n",
      "13  Cleveland  2016-05-10        65.76\n",
      "14  Cleveland  2016-05-11        68.32\n"
     ]
    }
   ],
   "source": [
    "#print(city_temp.head())\n",
    "print(city_temp.groupby(['city', 'date'], as_index = False).max().loc[:,['city','date','temperature']])"
   ]
  }
 ],
 "metadata": {
  "kernelspec": {
   "display_name": "Python 3",
   "language": "python",
   "name": "python3"
  },
  "language_info": {
   "codemirror_mode": {
    "name": "ipython",
    "version": 3
   },
   "file_extension": ".py",
   "mimetype": "text/x-python",
   "name": "python",
   "nbconvert_exporter": "python",
   "pygments_lexer": "ipython3",
   "version": "3.5.1"
  }
 },
 "nbformat": 4,
 "nbformat_minor": 0
}
